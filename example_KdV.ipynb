{
 "cells": [
  {
   "cell_type": "markdown",
   "id": "c011e3c8",
   "metadata": {},
   "source": [
    "# The Korteweg-de Vries Equation\n",
    "This notebook demonstrates KAN-PDE on the KdV equation\n",
    "\\begin{align}\n",
    "    u_t = - u_{xxx}-6 uu_x.\n",
    "\\end{align}\n",
    "The dataset can be downloaded from [PDE-FIND](https://github.com/snagcliffs/PDE-FIND/tree/master/Datasets)."
   ]
  },
  {
   "cell_type": "code",
   "execution_count": 1,
   "id": "0f3e53ef",
   "metadata": {},
   "outputs": [],
   "source": [
    "import matplotlib.pyplot as plt\n",
    "import numpy as np\n",
    "import pandas as pd\n",
    "import os, scipy, scipy.io, sys, torch\n",
    "import torch.nn as nn\n",
    "\n",
    "from matplotlib import cm\n",
    "from torchdiffeq import odeint_adjoint as torchodeint\n",
    "from tqdm import tqdm\n",
    "from efficient_kanpde import *"
   ]
  },
  {
   "cell_type": "code",
   "execution_count": 2,
   "id": "6a903305",
   "metadata": {},
   "outputs": [],
   "source": [
    "# Define device\n",
    "device = torch.device('cpu')\n",
    "\n",
    "# Define output directory\n",
    "odir = \"plots_kdv/\"\n",
    "os.makedirs(odir, exist_ok=True)"
   ]
  },
  {
   "cell_type": "markdown",
   "id": "be7c2d61",
   "metadata": {},
   "source": [
    "## Loading the dataset\n",
    "The dataset can be downloaded from [PDE-FIND](https://github.com/snagcliffs/PDE-FIND/tree/master/Datasets)."
   ]
  },
  {
   "cell_type": "code",
   "execution_count": 3,
   "id": "4a4ea993",
   "metadata": {},
   "outputs": [],
   "source": [
    "f = scipy.io.loadmat('datasets/PDE_FIND/kdv.mat')\n",
    "subsample = 8 \n",
    "\n",
    "u = f['usol'].T[:,::subsample] # (nt, nx) = (201, 64)\n",
    "x = f['x'].flatten()[::subsample]\n",
    "t = f['t'].flatten()\n",
    "\n",
    "u_true = torch.Tensor(np.real(u)).to(device)\n",
    "u_true.requires_grad = True\n",
    "\n",
    "nt_train = 40 # number of training steps\n",
    "u0_train = u_true[:1,]\n",
    "u0_test = u_true[nt_train:nt_train+1,]\n",
    "\n",
    "u_train = u_true[:nt_train, :]\n",
    "u_test = u_true[nt_train:, :]\n",
    "\n",
    "ts = torch.Tensor(t).to(device)\n",
    "t_train = ts[:nt_train]\n",
    "t_test = ts[nt_train:,]\n",
    "\n",
    "xmesh, tmesh = np.meshgrid(x, t[nt_train:])\n",
    "\n",
    "os.makedirs(\"plots/\", exist_ok=True)\n",
    "mpath = \"plots/kdv/\"\n",
    "os.makedirs(mpath, exist_ok=True)\n"
   ]
  },
  {
   "cell_type": "markdown",
   "id": "c912b787",
   "metadata": {},
   "source": [
    "## Defining Helper functions"
   ]
  },
  {
   "cell_type": "code",
   "execution_count": 4,
   "id": "bdce8449",
   "metadata": {},
   "outputs": [],
   "source": [
    "def plot_test_evolution(y_pred, y_test, path):\n",
    "    fig, axes = plt.subplots(1, 2, figsize=(6,3))\n",
    "    c = axes[0].pcolor(xmesh, tmesh, y_pred.detach().cpu(), cmap='coolwarm')\n",
    "    axes[0].set_title('Solution u')\n",
    "    fig.colorbar(c)\n",
    "    \n",
    "    diff = (y_pred - y_test).abs()\n",
    "    c = axes[1].pcolor(xmesh, tmesh, diff.detach().cpu(), cmap='coolwarm')\n",
    "    axes[1].set_title('Abs. Difference')\n",
    "    fig.colorbar(c)\n",
    "\n",
    "    for ax in axes:\n",
    "        ax.set_xlabel('x')\n",
    "        ax.set_ylabel('t')\n",
    "\n",
    "    plt.tight_layout()\n",
    "    plt.savefig(odir+f\"epoch_{epoch}.png\", dpi=200, facecolor=\"w\", edgecolor=\"w\", orientation=\"portrait\")\n",
    "    plt.close('all')\n",
    "\n",
    "\n",
    "def save_loss(loss_list_train, loss_list_test, path):\n",
    "    plt.figure(figsize=(3,3))\n",
    "    plt.semilogy(np.arange(num_epochs), torch.Tensor(loss_list_train), label='train')\n",
    "    plt.semilogy(np.arange(num_epochs)[::print_freq], torch.Tensor(loss_list_test), label='test')\n",
    "    plt.legend()\n",
    "    plt.xlabel('epoch')\n",
    "    plt.ylabel('loss')\n",
    "    plt.savefig(path+'loss.png', dpi=200, facecolor=\"w\", edgecolor=\"w\", orientation=\"portrait\")\n",
    "\n",
    "    data = pd.DataFrame(index = np.arange(num_epochs), columns=['train', 'test'])\n",
    "    data['train'] = torch.Tensor(loss_list_train).numpy()\n",
    "    data.loc[::print_freq, 'test'] = torch.Tensor(loss_list_test).numpy()\n",
    "    data.to_csv(path+'loss.csv')\n",
    "\n",
    "\n",
    "def calDeriv(t, X):\n",
    "    dXdt = model(X)\n",
    "    return dXdt"
   ]
  },
  {
   "cell_type": "markdown",
   "id": "9ffdbc89",
   "metadata": {},
   "source": [
    "## Initialization"
   ]
  },
  {
   "cell_type": "code",
   "execution_count": 5,
   "id": "f5f5b203",
   "metadata": {},
   "outputs": [
    {
     "name": "stdout",
     "output_type": "stream",
     "text": [
      "520\n"
     ]
    }
   ],
   "source": [
    "model = KANPDE(\n",
    "    layers_hidden = [[5,2]],  # one hidden layer with 7 nodes, 5 for summation and 2 for multiplication\n",
    "    dx = 1,             # spatial grid size in x to compute the spatial derivatives  \n",
    "    pde_order = 4,      # order of the highest spatial derivative \n",
    "    pde_component = 1,  # number of components in the PDE system\n",
    "    is_periodic = True, # whether to apply periodic boundary condition for spatial derivatives \n",
    "    spatial_dim = 1,    # spatial dimension\n",
    "    ).to(device) \n",
    "print(sum(p.numel() for p in model.parameters() if p.requires_grad))"
   ]
  },
  {
   "cell_type": "code",
   "execution_count": 6,
   "id": "db27710c",
   "metadata": {},
   "outputs": [],
   "source": [
    "num_epochs = 101\n",
    "plot_freq = 50\n",
    "print_freq = 10\n",
    "\n",
    "optimizer = torch.optim.Adam(model.parameters(), lr=0.01)\n",
    "loss_list_train = []\n",
    "loss_list_test = []\n",
    "\n",
    "adjoint_params = [model.layers[l].spline_weight for l in range(model.depth)] + [model.layers[l].base_weight for l in range(model.depth)]"
   ]
  },
  {
   "cell_type": "markdown",
   "id": "ffd126c0",
   "metadata": {},
   "source": [
    "## Training"
   ]
  },
  {
   "cell_type": "code",
   "execution_count": 7,
   "id": "ecb20305",
   "metadata": {},
   "outputs": [
    {
     "name": "stdout",
     "output_type": "stream",
     "text": [
      "Epoch 0000 | Train Loss 0.009531 | Total Loss 0.046004\n",
      "Epoch 0010 | Train Loss 0.006680 | Total Loss 0.017274\n",
      "Epoch 0020 | Train Loss 0.004332 | Total Loss 0.010682\n",
      "Epoch 0030 | Train Loss 0.002762 | Total Loss 0.008608\n",
      "Epoch 0040 | Train Loss 0.001417 | Total Loss 0.005973\n",
      "Epoch 0050 | Train Loss 0.000920 | Total Loss 0.020813\n",
      "Epoch 0060 | Train Loss 0.000671 | Total Loss 0.006425\n",
      "Epoch 0070 | Train Loss 0.000566 | Total Loss 0.005397\n",
      "Epoch 0080 | Train Loss 0.000467 | Total Loss 0.005203\n",
      "Epoch 0090 | Train Loss 0.000427 | Total Loss 0.004297\n",
      "Epoch 0100 | Train Loss 0.000403 | Total Loss 0.003781\n"
     ]
    },
    {
     "data": {
      "image/png": "[encoded data removed]",
      "text/plain": [
       "<Figure size 216x216 with 1 Axes>"
      ]
     },
     "metadata": {
      "needs_background": "light"
     },
     "output_type": "display_data"
    }
   ],
   "source": [
    "for epoch in range(num_epochs):\n",
    "    model.train()\n",
    "    optimizer.zero_grad()\n",
    "    pred = torchodeint(calDeriv, u0_train, t_train, adjoint_params=adjoint_params, method=\"dopri5\", options={\"min_step\": 0.01}).to(device) \n",
    "\n",
    "    loss_train = torch.mean(torch.square(pred[:, 0, :] - u_train))\n",
    "    loss_train.backward()\n",
    "    optimizer.step()\n",
    "    loss_list_train.append(loss_train.detach().cpu())\n",
    "\n",
    "    if epoch % print_freq == 0:\n",
    "        model.eval()\n",
    "        with torch.no_grad():\n",
    "            pred_test = torchodeint(calDeriv, u0_test, t_test, adjoint_params=[], method=\"dopri5\", options={\"min_step\": 0.01})    \n",
    "            loss_test = torch.mean(torch.square(pred_test[:,0, :] - u_test))\n",
    "            loss_list_test.append(loss_test.detach().cpu())\n",
    "            print(f'Epoch {epoch:04d} | Train Loss {loss_train.item():.6f} | Total Loss {loss_test.item():.6f}')\n",
    "            if epoch % plot_freq == 0:\n",
    "                plot_test_evolution(pred_test[:,0,:], u_test, f\"{odir}/\")\n",
    "                torch.save(model.state_dict(), f'{odir}/final_model.pt')\n",
    "\n",
    "model.eval()\n",
    "with torch.no_grad():\n",
    "    pred_test = torchodeint(calDeriv, u0_test, t_test, adjoint_params=[])    \n",
    "    plot_test_evolution(pred_test[:,0,:], u_test, f\"{odir}/\")\n",
    "save_loss(loss_list_train, loss_list_test, f'{odir}/')\n",
    "torch.save(model.state_dict(), f'{odir}/final_model.pt')"
   ]
  },
  {
   "cell_type": "code",
   "execution_count": null,
   "id": "fea6cf1b",
   "metadata": {},
   "outputs": [],
   "source": []
  }
 ],
 "metadata": {
  "kernelspec": {
   "display_name": "Python 3",
   "language": "python",
   "name": "python3"
  },
  "language_info": {
   "codemirror_mode": {
    "name": "ipython",
    "version": 3
   },
   "file_extension": ".py",
   "mimetype": "text/x-python",
   "name": "python",
   "nbconvert_exporter": "python",
   "pygments_lexer": "ipython3",
   "version": "3.9.19"
  }
 },
 "nbformat": 4,
 "nbformat_minor": 5
}
